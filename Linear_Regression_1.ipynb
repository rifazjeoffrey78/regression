{
  "nbformat": 4,
  "nbformat_minor": 0,
  "metadata": {
    "colab": {
      "provenance": []
    },
    "kernelspec": {
      "name": "python3",
      "display_name": "Python 3"
    },
    "language_info": {
      "name": "python"
    }
  },
  "cells": [
    {
      "cell_type": "code",
      "execution_count": 29,
      "metadata": {
        "id": "IkEujzeaK91W"
      },
      "outputs": [],
      "source": [
        "#goal is to predict house prices"
      ]
    },
    {
      "cell_type": "code",
      "source": [
        "import numpy as np\n",
        "import pandas as pd\n",
        "import matplotlib.pyplot as plt\n",
        "import statsmodels.api as sm\n",
        "import os\n",
        "from statsmodels.formula.api import ols\n",
        "from scipy.stats import norm\n",
        "from sklearn.model_selection import train_test_split\n",
        "from sklearn.metrics import r2_score\n",
        "from sklearn import datasets"
      ],
      "metadata": {
        "id": "NH7_b32FbJlx"
      },
      "execution_count": 30,
      "outputs": []
    },
    {
      "cell_type": "code",
      "source": [
        "from google.colab import drive\n",
        "drive.mount('/content/drive/')"
      ],
      "metadata": {
        "colab": {
          "base_uri": "https://localhost:8080/"
        },
        "id": "6ykLbDIGLWrF",
        "outputId": "e2550d46-755f-4ee2-b6aa-bc8184e53cb5"
      },
      "execution_count": 31,
      "outputs": [
        {
          "output_type": "stream",
          "name": "stdout",
          "text": [
            "Drive already mounted at /content/drive/; to attempt to forcibly remount, call drive.mount(\"/content/drive/\", force_remount=True).\n"
          ]
        }
      ]
    },
    {
      "cell_type": "code",
      "source": [
        "df = pd.read_csv('/content/drive/MyDrive/MIT/My-Programs/housing.csv')\n",
        "\n",
        "df.info()"
      ],
      "metadata": {
        "colab": {
          "base_uri": "https://localhost:8080/"
        },
        "id": "xuz1UKgjZNMX",
        "outputId": "301750c2-40c8-4706-e0ac-b4643ab263f2"
      },
      "execution_count": 32,
      "outputs": [
        {
          "output_type": "stream",
          "name": "stdout",
          "text": [
            "<class 'pandas.core.frame.DataFrame'>\n",
            "RangeIndex: 20640 entries, 0 to 20639\n",
            "Data columns (total 10 columns):\n",
            " #   Column              Non-Null Count  Dtype  \n",
            "---  ------              --------------  -----  \n",
            " 0   longitude           20640 non-null  float64\n",
            " 1   latitude            20640 non-null  float64\n",
            " 2   housing_median_age  20640 non-null  int64  \n",
            " 3   total_rooms         20640 non-null  int64  \n",
            " 4   total_bedrooms      20433 non-null  float64\n",
            " 5   population          20640 non-null  int64  \n",
            " 6   households          20640 non-null  int64  \n",
            " 7   median_income       20640 non-null  float64\n",
            " 8   ocean_proximity     20640 non-null  object \n",
            " 9   median_house_value  20640 non-null  int64  \n",
            "dtypes: float64(4), int64(5), object(1)\n",
            "memory usage: 1.6+ MB\n"
          ]
        }
      ]
    },
    {
      "cell_type": "code",
      "source": [
        "#convert ocean proximity to categorical variable\n",
        "#df['ocean_proximity'] = df['ocean_proximity'].astype('category')"
      ],
      "metadata": {
        "id": "qvMs4XUHZm7r"
      },
      "execution_count": 33,
      "outputs": []
    },
    {
      "cell_type": "code",
      "source": [
        "df = pd.read_csv('/content/drive/MyDrive/MIT/My-Programs/housing.csv')\n",
        "\n",
        "df.info()"
      ],
      "metadata": {
        "colab": {
          "base_uri": "https://localhost:8080/"
        },
        "outputId": "af7347af-7528-447b-e000-95e8eaf7ac9b",
        "id": "gdAZx8lYPmPo"
      },
      "execution_count": 34,
      "outputs": [
        {
          "output_type": "stream",
          "name": "stdout",
          "text": [
            "<class 'pandas.core.frame.DataFrame'>\n",
            "RangeIndex: 20640 entries, 0 to 20639\n",
            "Data columns (total 10 columns):\n",
            " #   Column              Non-Null Count  Dtype  \n",
            "---  ------              --------------  -----  \n",
            " 0   longitude           20640 non-null  float64\n",
            " 1   latitude            20640 non-null  float64\n",
            " 2   housing_median_age  20640 non-null  int64  \n",
            " 3   total_rooms         20640 non-null  int64  \n",
            " 4   total_bedrooms      20433 non-null  float64\n",
            " 5   population          20640 non-null  int64  \n",
            " 6   households          20640 non-null  int64  \n",
            " 7   median_income       20640 non-null  float64\n",
            " 8   ocean_proximity     20640 non-null  object \n",
            " 9   median_house_value  20640 non-null  int64  \n",
            "dtypes: float64(4), int64(5), object(1)\n",
            "memory usage: 1.6+ MB\n"
          ]
        }
      ]
    },
    {
      "cell_type": "code",
      "source": [
        "df['ocean_proximity'] = df['ocean_proximity'].astype('category')\n"
      ],
      "metadata": {
        "id": "ZzAbS8IrWmCc"
      },
      "execution_count": 35,
      "outputs": []
    },
    {
      "cell_type": "code",
      "source": [],
      "metadata": {
        "id": "I8qMW_SWXAth"
      },
      "execution_count": 35,
      "outputs": []
    },
    {
      "cell_type": "code",
      "source": [
        "df_train, df_test = train_test_split(df, test_size=0.3, random_state=42)"
      ],
      "metadata": {
        "id": "phW82X10bVH0"
      },
      "execution_count": 36,
      "outputs": []
    },
    {
      "cell_type": "code",
      "source": [],
      "metadata": {
        "id": "fJesu7tLV5Ca"
      },
      "execution_count": 36,
      "outputs": []
    },
    {
      "cell_type": "code",
      "source": [
        "est_train = ols(formula=\"median_house_value ~ housing_median_age + total_rooms + total_bedrooms + population + households + median_income + ocean_proximity\", data=df_train).fit()\n",
        "print(est_train.summary())"
      ],
      "metadata": {
        "colab": {
          "base_uri": "https://localhost:8080/"
        },
        "id": "gkuv28Q3bdU_",
        "outputId": "6d4c3879-ea4a-413c-93ba-77a2eba97ae8"
      },
      "execution_count": 37,
      "outputs": [
        {
          "output_type": "stream",
          "name": "stdout",
          "text": [
            "                            OLS Regression Results                            \n",
            "==============================================================================\n",
            "Dep. Variable:     median_house_value   R-squared:                       0.635\n",
            "Model:                            OLS   Adj. R-squared:                  0.635\n",
            "Method:                 Least Squares   F-statistic:                     2514.\n",
            "Date:                Thu, 21 Mar 2024   Prob (F-statistic):               0.00\n",
            "Time:                        22:12:13   Log-Likelihood:            -1.8167e+05\n",
            "No. Observations:               14448   AIC:                         3.634e+05\n",
            "Df Residuals:                   14437   BIC:                         3.634e+05\n",
            "Df Model:                          10                                         \n",
            "Covariance Type:            nonrobust                                         \n",
            "=================================================================================================\n",
            "                                    coef    std err          t      P>|t|      [0.025      0.975]\n",
            "-------------------------------------------------------------------------------------------------\n",
            "Intercept                      2.526e+04   2921.099      8.648      0.000    1.95e+04     3.1e+04\n",
            "ocean_proximity[T.INLAND]     -6.924e+04   1492.134    -46.405      0.000   -7.22e+04   -6.63e+04\n",
            "ocean_proximity[T.ISLAND]      1.572e+05    3.5e+04      4.491      0.000    8.86e+04    2.26e+05\n",
            "ocean_proximity[T.NEAR BAY]    2880.4321   2010.288      1.433      0.152   -1059.991    6820.855\n",
            "ocean_proximity[T.NEAR OCEAN]  1.218e+04   1876.908      6.490      0.000    8502.517    1.59e+04\n",
            "housing_median_age             1211.6833     52.846     22.929      0.000    1108.099    1315.268\n",
            "total_rooms                      -7.1503      0.960     -7.445      0.000      -9.033      -5.268\n",
            "total_bedrooms                   84.4988      8.322     10.154      0.000      68.187     100.810\n",
            "population                      -36.5518      1.267    -28.839      0.000     -39.036     -34.068\n",
            "households                       71.9000      9.042      7.952      0.000      54.177      89.623\n",
            "median_income                  4.043e+04    404.313     99.987      0.000    3.96e+04    4.12e+04\n",
            "==============================================================================\n",
            "Omnibus:                     3543.711   Durbin-Watson:                   1.974\n",
            "Prob(Omnibus):                  0.000   Jarque-Bera (JB):            13420.054\n",
            "Skew:                           1.186   Prob(JB):                         0.00\n",
            "Kurtosis:                       7.082   Cond. No.                     2.37e+05\n",
            "==============================================================================\n",
            "\n",
            "Notes:\n",
            "[1] Standard Errors assume that the covariance matrix of the errors is correctly specified.\n",
            "[2] The condition number is large, 2.37e+05. This might indicate that there are\n",
            "strong multicollinearity or other numerical problems.\n"
          ]
        }
      ]
    },
    {
      "cell_type": "code",
      "source": [
        "df1 = df[df['ocean_proximity'].astype('category') != 'NEAR BAY']\n",
        "\n",
        "df_filtered =  df1[df1['total_bedrooms'] > 0]\n",
        "\n",
        "#dfDescription = df_filtered.describe(include= \"all\")\n",
        "\n",
        "df_train1, df_test1 = train_test_split(df_filtered, test_size=0.3, random_state=42)"
      ],
      "metadata": {
        "id": "cXOA_od-Dhsg"
      },
      "execution_count": 38,
      "outputs": []
    },
    {
      "cell_type": "code",
      "source": [
        "est_train = ols(formula=\"median_house_value ~ housing_median_age + total_rooms + total_bedrooms + population + households + median_income + ocean_proximity\", data=df_train1).fit()\n",
        "print(est_train.summary())"
      ],
      "metadata": {
        "colab": {
          "base_uri": "https://localhost:8080/"
        },
        "id": "h7ILClikDcdn",
        "outputId": "3666b220-6d86-45a0-d695-5ca3ccce260b"
      },
      "execution_count": 39,
      "outputs": [
        {
          "output_type": "stream",
          "name": "stdout",
          "text": [
            "                            OLS Regression Results                            \n",
            "==============================================================================\n",
            "Dep. Variable:     median_house_value   R-squared:                       0.648\n",
            "Model:                            OLS   Adj. R-squared:                  0.648\n",
            "Method:                 Least Squares   F-statistic:                     2602.\n",
            "Date:                Thu, 21 Mar 2024   Prob (F-statistic):               0.00\n",
            "Time:                        22:12:13   Log-Likelihood:            -1.5931e+05\n",
            "No. Observations:               12714   AIC:                         3.186e+05\n",
            "Df Residuals:                   12704   BIC:                         3.187e+05\n",
            "Df Model:                           9                                         \n",
            "Covariance Type:            nonrobust                                         \n",
            "=================================================================================================\n",
            "                                    coef    std err          t      P>|t|      [0.025      0.975]\n",
            "-------------------------------------------------------------------------------------------------\n",
            "Intercept                      3.853e+04   3005.457     12.819      0.000    3.26e+04    4.44e+04\n",
            "ocean_proximity[T.INLAND]     -7.031e+04   1460.482    -48.139      0.000   -7.32e+04   -6.74e+04\n",
            "ocean_proximity[T.ISLAND]      1.942e+05   3.87e+04      5.018      0.000    1.18e+05     2.7e+05\n",
            "ocean_proximity[T.NEAR BAY]   -3.146e-08   6.16e-09     -5.109      0.000   -4.35e-08   -1.94e-08\n",
            "ocean_proximity[T.NEAR OCEAN]  1.457e+04   1792.678      8.127      0.000    1.11e+04    1.81e+04\n",
            "housing_median_age              959.8214     54.890     17.486      0.000     852.229    1067.413\n",
            "total_rooms                      -5.8327      0.974     -5.991      0.000      -7.741      -3.924\n",
            "total_bedrooms                   73.1848      8.235      8.887      0.000      57.042      89.327\n",
            "population                      -32.3813      1.268    -25.531      0.000     -34.867     -29.895\n",
            "households                       59.5060      8.832      6.738      0.000      42.195      76.817\n",
            "median_income                  3.935e+04    415.338     94.742      0.000    3.85e+04    4.02e+04\n",
            "==============================================================================\n",
            "Omnibus:                     3342.297   Durbin-Watson:                   2.000\n",
            "Prob(Omnibus):                  0.000   Jarque-Bera (JB):            11855.325\n",
            "Skew:                           1.297   Prob(JB):                         0.00\n",
            "Kurtosis:                       6.956   Cond. No.                     1.42e+18\n",
            "==============================================================================\n",
            "\n",
            "Notes:\n",
            "[1] Standard Errors assume that the covariance matrix of the errors is correctly specified.\n",
            "[2] The smallest eigenvalue is 9.82e-26. This might indicate that there are\n",
            "strong multicollinearity problems or that the design matrix is singular.\n"
          ]
        }
      ]
    },
    {
      "cell_type": "code",
      "source": [
        "est_test = est_train.predict(df_test1)\n",
        "r2 = r2_score(df_test1['median_house_value'],est_test)\n",
        "\n",
        "print('OOS R-squared: '+ str(r2))"
      ],
      "metadata": {
        "colab": {
          "base_uri": "https://localhost:8080/"
        },
        "id": "3Xyl9YPNo4hO",
        "outputId": "94e7a346-9f6e-4170-8682-c027e7c87345"
      },
      "execution_count": 42,
      "outputs": [
        {
          "output_type": "stream",
          "name": "stdout",
          "text": [
            "OOS R-squared: 0.6286481055575057\n"
          ]
        }
      ]
    }
  ]
}